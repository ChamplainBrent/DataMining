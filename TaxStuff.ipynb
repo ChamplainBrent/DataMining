{
  "nbformat": 4,
  "nbformat_minor": 0,
  "metadata": {
    "colab": {
      "name": "TaxStuff.ipynb",
      "provenance": [],
      "authorship_tag": "ABX9TyP4uUjcKeeJYAj/ZHMwHY6u",
      "include_colab_link": true
    },
    "kernelspec": {
      "name": "python3",
      "display_name": "Python 3"
    },
    "language_info": {
      "name": "python"
    }
  },
  "cells": [
    {
      "cell_type": "markdown",
      "metadata": {
        "id": "view-in-github",
        "colab_type": "text"
      },
      "source": [
        "<a href=\"https://colab.research.google.com/github/ChamplainBrent/DataMining/blob/main/TaxStuff.ipynb\" target=\"_parent\"><img src=\"https://colab.research.google.com/assets/colab-badge.svg\" alt=\"Open In Colab\"/></a>"
      ]
    },
    {
      "cell_type": "code",
      "metadata": {
        "colab": {
          "base_uri": "https://localhost:8080/",
          "height": 735
        },
        "id": "DNUg_NanXr2v",
        "outputId": "fad6bdac-3eba-4a16-a034-eb259a75b32c"
      },
      "source": [
        "import numpy as np\n",
        "#Pandas is to store and make functional the data we're going to use\n",
        "import pandas as pd\n",
        "#Sklearn is to test whether our method, Standard deviation, is working for finding the best feature(s)\n",
        "from sklearn import linear_model as lm\n",
        "import matplotlib.pyplot as plt\n",
        "\n",
        "\n",
        "#Read in data\n",
        "taxData = pd.read_csv('/content/sales-and-use-tax.csv')\n",
        "popData = pd.read_csv('/content/HS-STAT-Population-of-Vermont-towns-1930-2019.csv')\n",
        "\n",
        "#dropped an ID column\n",
        "popData = popData.drop('CTC', axis=1)\n",
        "\n",
        "#Data Engineering step(s)\n",
        "#Reshaped the data to get ready for merging with the tax data\n",
        "popData2 = popData.melt(id_vars=['NAME'], var_name=\"Calendar Year\", value_name=\"Population\")\n",
        "\n",
        "#Changing data type(dtype) for merging\n",
        "popData2 = popData2.astype({'Calendar Year' : 'int64'})\n",
        "\n",
        "#Merging datasets into one dataset\n",
        "DATA = taxData.merge(popData2, left_on=[\"Town\", \"Calendar Year\"], right_on=[\"NAME\", \"Calendar Year\"], how='inner')\n",
        "\n",
        "#Feature we want to predict\n",
        "TargetFeature = \"Gross\"\n",
        "#Separate Features and Target(s)\n",
        "DATAFeatures = DATA.drop(TargetFeature, axis=1)\n",
        "\n",
        "#Data Mining Steps - Using standard deviation\n",
        "MostImportantFeature = DATAFeatures.std().sort_values(ascending=False)[0:1]\n",
        "LeastImportantFeature = DATAFeatures.std().sort_values()[0:1]\n",
        "\n",
        "#Final Data Engineering Steps\n",
        "#Find most important feature, by our Data mining methodology\n",
        "FeatureName = MostImportantFeature.index[0]\n",
        "\n",
        "\n",
        "#Testing our choice from Data Mining Results\n",
        "#Setting up input arrays for test\n",
        "\n",
        "xb = np.array(DATA[MostImportantFeature.index[0]])\n",
        "xb = xb.reshape(-1,1)\n",
        "yb = np.array(DATA[TargetFeature])\n",
        "yb = yb.reshape(-1,1)\n",
        "\n",
        "bestModel = lm.LinearRegression().fit(xb,yb)\n",
        "BMscore = bestModel.score(xb,yb)\n",
        "\n",
        "#if the regression score is above threshold use the chosen feature\n",
        "BestDataModel = pd.DataFrame(DATAFeatures[MostImportantFeature.index[0]])\n",
        "\n",
        "\n",
        "#Showing the bad case from Data Mining Results\n",
        "xw = np.array(DATA[LeastImportantFeature.index[0]])\n",
        "xw = xw.reshape(-1,1)\n",
        "yw = np.array(DATA[TargetFeature])\n",
        "yw = yw.reshape(-1,1)\n",
        "\n",
        "worstModel = lm.LinearRegression().fit(xw,yw)\n",
        "WMscore = worstModel.score(xw,yw)\n",
        "\n",
        "print('The Most Important feature, ', MostImportantFeature.index[0],', has an linear regression accuracy of:  ', BMscore, sep=\"\")\n",
        "print('The Least Important feature, ', LeastImportantFeature.index[0],', has an linear regression accuracy of:  ', WMscore, sep=\"\")\n",
        "print('\\nThe best data model is:  \\n', BestDataModel.head())\n",
        "\n",
        "yb_pred = bestModel.predict(xb)\n",
        "yw_pred = worstModel.predict(xw)\n",
        "\n",
        "plt.figure(0)\n",
        "plt.scatter(xb, yb)\n",
        "plt.plot(xb, yb_pred, color='red')\n",
        "\n",
        "plt.figure(1)\n",
        "plt.scatter(xw, yw)\n",
        "plt.plot(xw, yw_pred)"
      ],
      "execution_count": 30,
      "outputs": [
        {
          "output_type": "stream",
          "name": "stdout",
          "text": [
            "The Most Important feature, Retail, has an linear regression accuracy of:  0.8663761236994375\n",
            "The Least Important feature, Calendar Year, has an linear regression accuracy of:  0.00014268782597526286\n",
            "\n",
            "The best data model is:  \n",
            "         Retail\n",
            "0  1.446626e+06\n",
            "1  4.655620e+06\n",
            "2  1.365132e+07\n",
            "3  1.405078e+08\n",
            "4  2.056342e+07\n"
          ]
        },
        {
          "output_type": "execute_result",
          "data": {
            "text/plain": [
              "[<matplotlib.lines.Line2D at 0x7fdc01bf2c50>]"
            ]
          },
          "metadata": {},
          "execution_count": 30
        },
        {
          "output_type": "display_data",
          "data": {
            "image/png": "[encoded data removed]",
            "text/plain": [
              "<Figure size 432x288 with 1 Axes>"
            ]
          },
          "metadata": {
            "needs_background": "light"
          }
        },
        {
          "output_type": "display_data",
          "data": {
            "image/png": "[encoded data removed]",
            "text/plain": [
              "<Figure size 432x288 with 1 Axes>"
            ]
          },
          "metadata": {
            "needs_background": "light"
          }
        }
      ]
    }
  ]
}