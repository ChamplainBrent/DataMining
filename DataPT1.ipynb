{
  "nbformat": 4,
  "nbformat_minor": 0,
  "metadata": {
    "colab": {
      "name": "DataPT1",
      "provenance": [],
      "authorship_tag": "ABX9TyNh067qapqcnL36Ga6SOKQR",
      "include_colab_link": true
    },
    "kernelspec": {
      "name": "python3",
      "display_name": "Python 3"
    },
    "language_info": {
      "name": "python"
    }
  },
  "cells": [
    {
      "cell_type": "markdown",
      "metadata": {
        "id": "view-in-github",
        "colab_type": "text"
      },
      "source": [
        "<a href=\"https://colab.research.google.com/github/ChamplainBrent/DataMining/blob/main/DataPT1.ipynb\" target=\"_parent\"><img src=\"https://colab.research.google.com/assets/colab-badge.svg\" alt=\"Open In Colab\"/></a>"
      ]
    },
    {
      "cell_type": "code",
      "metadata": {
        "id": "TXZyJTIuxpBX",
        "colab": {
          "base_uri": "https://localhost:8080/"
        },
        "outputId": "85baac5d-db56-4a7b-f539-e7ca505c2cd9"
      },
      "source": [
        "import pandas as pd\n",
        "from sklearn import linear_model as lm\n",
        "import numpy as np\n",
        "\n",
        "taxData = pd.read_csv('/content/sales-and-use-tax.csv')\n",
        "population = pd.read_csv('/content/HS-STAT-Population-of-Vermont-towns-1930-2019.csv')\n",
        "population=population.drop('CTC', axis=1)\n",
        "\n",
        "population2 = population.melt(id_vars=[\"NAME\"], var_name=\"Calendar Year\", value_name=\"Population\")\n",
        "\n",
        "population2 = population2.astype({'Calendar Year': 'int32', 'Population': 'int32'})\n",
        "\n",
        "DATA = taxData.merge(population2, left_on=[\"Town\", \"Calendar Year\"], right_on=[\"NAME\", \"Calendar Year\"], how='inner')\n",
        "\n",
        "xb=np.array(DATA['Retail'])\n",
        "xb=xb.reshape(-1,1)\n",
        "yb=np.array(DATA['Gross'])\n",
        "yb=yb.reshape(-1,1)\n",
        "\n",
        "bestModel=lm.LinearRegression().fit(xb,yb)\n",
        "BM = bestModel.score(xb,yb)\n",
        "\n",
        "xw=np.array(DATA['Calendar Year'])\n",
        "xw=xw.reshape(-1,1)\n",
        "yw=np.array(DATA['Gross'])\n",
        "yw=yw.reshape(-1,1)\n",
        "\n",
        "worstModel=lm.LinearRegression().fit(xw,yw)\n",
        "WM = worstModel.score(xw,yw)\n",
        "\n",
        "print(BM, WM)\n"
      ],
      "execution_count": 96,
      "outputs": [
        {
          "output_type": "stream",
          "name": "stdout",
          "text": [
            "0.8663761236994375 0.00014268782597526286\n"
          ]
        }
      ]
    }
  ]
}