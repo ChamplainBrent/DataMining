{
  "nbformat": 4,
  "nbformat_minor": 0,
  "metadata": {
    "colab": {
      "name": "DataPT1",
      "provenance": [],
      "authorship_tag": "ABX9TyPZWz/uNWBZzuBCqHwY2D2y",
      "include_colab_link": true
    },
    "kernelspec": {
      "name": "python3",
      "display_name": "Python 3"
    },
    "language_info": {
      "name": "python"
    }
  },
  "cells": [
    {
      "cell_type": "markdown",
      "metadata": {
        "id": "view-in-github",
        "colab_type": "text"
      },
      "source": [
        "<a href=\"https://colab.research.google.com/github/ChamplainBrent/DataMining/blob/main/DataPT1.ipynb\" target=\"_parent\"><img src=\"https://colab.research.google.com/assets/colab-badge.svg\" alt=\"Open In Colab\"/></a>"
      ]
    },
    {
      "cell_type": "code",
      "metadata": {
        "id": "TXZyJTIuxpBX",
        "outputId": "2f294c4c-9832-4f60-f7c9-1e2ce5b6f882",
        "colab": {
          "base_uri": "https://localhost:8080/",
          "height": 314
        }
      },
      "source": [
        "import pandas as pd\n",
        "from sklearn import linear_model as lm\n",
        "import numpy as np\n",
        "\n",
        "taxData = pd.read_csv('/content/sales-and-use-tax.csv')\n",
        "population = pd.read_csv('/content/HS-STAT-Population-of-Vermont-towns-1930-2019.csv')\n",
        "population=population.drop('CTC', axis=1)\n",
        "\n",
        "population2 = population.melt(id_vars=[\"NAME\"], var_name=\"Calendar Year\", value_name=\"Population\")\n",
        "\n",
        "population2 = population2.astype({'Calendar Year': 'int32', 'Population': 'int32'})\n",
        "\n",
        "DATA = taxData.merge(population2, left_on=[\"Town\", \"Calendar Year\"], right_on=[\"NAME\", \"Calendar Year\"], how='inner')\n",
        "\n",
        "DATA.describe()\n",
        "\n",
        "xb=np.array(DATA['Retail'])\n",
        "xb=xb.reshape(-1,1)\n",
        "yb=np.array(DATA['Gross'])\n",
        "yb=yb.reshape(-1,1)\n",
        "\n",
        "bestModel=lm.LinearRegression().fit(xb,yb)\n",
        "BM = bestModel.score(xb,yb)\n",
        "\n",
        "xw=np.array(DATA['Calendar Year'])\n",
        "xw=xw.reshape(-1,1)\n",
        "yw=np.array(DATA['Gross'])\n",
        "yw=yw.reshape(-1,1)\n",
        "\n",
        "worstModel=lm.LinearRegression().fit(xw,yw)\n",
        "WM = worstModel.score(xw,yw)\n",
        "\n",
        "print(BM, WM)\n"
      ],
      "execution_count": 87,
      "outputs": [
        {
          "output_type": "stream",
          "name": "stdout",
          "text": [
            "0.8663761236994375 0.00014268782597526286\n"
          ]
        },
        {
          "output_type": "execute_result",
          "data": {
            "text/html": [
              "<div>\n",
              "<style scoped>\n",
              "    .dataframe tbody tr th:only-of-type {\n",
              "        vertical-align: middle;\n",
              "    }\n",
              "\n",
              "    .dataframe tbody tr th {\n",
              "        vertical-align: top;\n",
              "    }\n",
              "\n",
              "    .dataframe thead th {\n",
              "        text-align: right;\n",
              "    }\n",
              "</style>\n",
              "<table border=\"1\" class=\"dataframe\">\n",
              "  <thead>\n",
              "    <tr style=\"text-align: right;\">\n",
              "      <th></th>\n",
              "      <th>Calendar Year</th>\n",
              "      <th>Gross</th>\n",
              "      <th>Gross Count</th>\n",
              "      <th>Retail</th>\n",
              "      <th>Retail Count</th>\n",
              "      <th>Use</th>\n",
              "      <th>Use Count</th>\n",
              "      <th>Population</th>\n",
              "    </tr>\n",
              "  </thead>\n",
              "  <tbody>\n",
              "    <tr>\n",
              "      <th>count</th>\n",
              "      <td>785.000000</td>\n",
              "      <td>7.850000e+02</td>\n",
              "      <td>785.000000</td>\n",
              "      <td>7.850000e+02</td>\n",
              "      <td>785.000000</td>\n",
              "      <td>7.850000e+02</td>\n",
              "      <td>785.000000</td>\n",
              "      <td>785.000000</td>\n",
              "    </tr>\n",
              "    <tr>\n",
              "      <th>mean</th>\n",
              "      <td>2016.467516</td>\n",
              "      <td>9.247309e+07</td>\n",
              "      <td>84.380892</td>\n",
              "      <td>1.914906e+07</td>\n",
              "      <td>73.100637</td>\n",
              "      <td>9.420730e+05</td>\n",
              "      <td>20.202548</td>\n",
              "      <td>2818.202548</td>\n",
              "    </tr>\n",
              "    <tr>\n",
              "      <th>std</th>\n",
              "      <td>1.125664</td>\n",
              "      <td>2.469427e+08</td>\n",
              "      <td>129.287229</td>\n",
              "      <td>5.074067e+07</td>\n",
              "      <td>113.378852</td>\n",
              "      <td>2.819924e+06</td>\n",
              "      <td>44.428669</td>\n",
              "      <td>4160.572301</td>\n",
              "    </tr>\n",
              "    <tr>\n",
              "      <th>min</th>\n",
              "      <td>2015.000000</td>\n",
              "      <td>8.592789e+04</td>\n",
              "      <td>10.000000</td>\n",
              "      <td>0.000000e+00</td>\n",
              "      <td>0.000000</td>\n",
              "      <td>0.000000e+00</td>\n",
              "      <td>0.000000</td>\n",
              "      <td>200.000000</td>\n",
              "    </tr>\n",
              "    <tr>\n",
              "      <th>25%</th>\n",
              "      <td>2015.000000</td>\n",
              "      <td>4.120096e+06</td>\n",
              "      <td>23.000000</td>\n",
              "      <td>9.598823e+05</td>\n",
              "      <td>19.000000</td>\n",
              "      <td>0.000000e+00</td>\n",
              "      <td>0.000000</td>\n",
              "      <td>1041.000000</td>\n",
              "    </tr>\n",
              "    <tr>\n",
              "      <th>50%</th>\n",
              "      <td>2016.000000</td>\n",
              "      <td>1.528070e+07</td>\n",
              "      <td>41.000000</td>\n",
              "      <td>3.163563e+06</td>\n",
              "      <td>35.000000</td>\n",
              "      <td>0.000000e+00</td>\n",
              "      <td>0.000000</td>\n",
              "      <td>1597.000000</td>\n",
              "    </tr>\n",
              "    <tr>\n",
              "      <th>75%</th>\n",
              "      <td>2017.000000</td>\n",
              "      <td>6.509714e+07</td>\n",
              "      <td>90.000000</td>\n",
              "      <td>1.348400e+07</td>\n",
              "      <td>77.000000</td>\n",
              "      <td>5.309683e+05</td>\n",
              "      <td>20.000000</td>\n",
              "      <td>2959.000000</td>\n",
              "    </tr>\n",
              "    <tr>\n",
              "      <th>max</th>\n",
              "      <td>2018.000000</td>\n",
              "      <td>2.220696e+09</td>\n",
              "      <td>1367.000000</td>\n",
              "      <td>3.947733e+08</td>\n",
              "      <td>1221.000000</td>\n",
              "      <td>2.041697e+07</td>\n",
              "      <td>463.000000</td>\n",
              "      <td>42899.000000</td>\n",
              "    </tr>\n",
              "  </tbody>\n",
              "</table>\n",
              "</div>"
            ],
            "text/plain": [
              "       Calendar Year         Gross  ...   Use Count    Population\n",
              "count     785.000000  7.850000e+02  ...  785.000000    785.000000\n",
              "mean     2016.467516  9.247309e+07  ...   20.202548   2818.202548\n",
              "std         1.125664  2.469427e+08  ...   44.428669   4160.572301\n",
              "min      2015.000000  8.592789e+04  ...    0.000000    200.000000\n",
              "25%      2015.000000  4.120096e+06  ...    0.000000   1041.000000\n",
              "50%      2016.000000  1.528070e+07  ...    0.000000   1597.000000\n",
              "75%      2017.000000  6.509714e+07  ...   20.000000   2959.000000\n",
              "max      2018.000000  2.220696e+09  ...  463.000000  42899.000000\n",
              "\n",
              "[8 rows x 8 columns]"
            ]
          },
          "metadata": {},
          "execution_count": 87
        }
      ]
    },
    {
      "cell_type": "markdown",
      "metadata": {
        "id": "hdDakCQu8BGd"
      },
      "source": [
        ""
      ]
    }
  ]
}